{
 "cells": [
  {
   "cell_type": "markdown",
   "metadata": {},
   "source": [
    "# Example usage of vrn-unguided-keras.h5\n",
    "## Modified by Qhan\n",
    "* Rendering Texture\n",
    "    * maplotlib.pyplot\n",
    "    * visvis.mesh\n",
    "    \n",
    "* Download the h5py file here:\n",
    "https://drive.google.com/file/d/1oh8Zpe4wh00iXcm8ztRsi5ZL6GMkHdjj/view?usp=sharing"
   ]
  },
  {
   "cell_type": "code",
   "execution_count": null,
   "metadata": {},
   "outputs": [],
   "source": [
    "from keras.models import load_model\n",
    "import cv2\n",
    "import visvis as vv\n",
    "import numpy as np\n",
    "from skimage import measure\n",
    "\n",
    "import os\n",
    "import os.path as osp\n",
    "\n",
    "from matplotlib import pyplot as plt\n",
    "from matplotlib.collections import PolyCollection\n",
    "from mpl_toolkits.mplot3d import Axes3D\n",
    "from mpl_toolkits.mplot3d.art3d import Poly3DCollection\n",
    "import mcubes\n",
    "import matplotlib\n",
    "matplotlib.rcParams['figure.figsize'] = [10,10]\n",
    "\n",
    "import custom_layers"
   ]
  },
  {
   "cell_type": "code",
   "execution_count": null,
   "metadata": {},
   "outputs": [],
   "source": [
    "custom_objects = {\n",
    "    'Conv': custom_layers.Conv,\n",
    "    'BatchNorm': custom_layers.BatchNorm,\n",
    "    'UpSamplingBilinear': custom_layers.UpSamplingBilinear\n",
    "}\n",
    "model = load_model('vrn-unguided-keras.h5', custom_objects=custom_objects)"
   ]
  },
  {
   "cell_type": "markdown",
   "metadata": {},
   "source": [
    "## Color Interpolation"
   ]
  },
  {
   "cell_type": "code",
   "execution_count": null,
   "metadata": {},
   "outputs": [],
   "source": [
    "def interp(x, v):\n",
    "    d0, d1 = x, 1-x\n",
    "    v0, v1 = v\n",
    "    return (v0 * d1 + v1 * d0)\n",
    "\n",
    "def interp2d(xy, v):\n",
    "    x, y = xy\n",
    "    u = interp(x, v[0])\n",
    "    d = interp(x, v[1])\n",
    "    return interp(y, [u, d])\n",
    "\n",
    "def interpColors(verts, image):\n",
    "    colors = []\n",
    "    #im = cv2.GaussianBlur(image, (3, 3), 0)\n",
    "    for v in verts:\n",
    "        x, y = v[:2]\n",
    "        c, r = int(x), int(y)\n",
    "        corners = im[r:r+2, c:c+2].astype(float) / 256\n",
    "        colors += [interp2d([x-c, y-r], corners)]\n",
    "    return colors"
   ]
  },
  {
   "cell_type": "markdown",
   "metadata": {},
   "source": [
    "## Read Image & Get 3D Model"
   ]
  },
  {
   "cell_type": "code",
   "execution_count": null,
   "metadata": {
    "scrolled": false
   },
   "outputs": [],
   "source": [
    "im = cv2.imread('images/qhan-head-2.png')\n",
    "im = cv2.resize(im, (192, 192))\n",
    "im = cv2.cvtColor(im, cv2.COLOR_BGR2RGB)\n",
    "img = np.swapaxes(im, 2, 0)\n",
    "img = np.swapaxes(img, 2, 1)\n",
    "img = np.array([img])"
   ]
  },
  {
   "cell_type": "code",
   "execution_count": null,
   "metadata": {},
   "outputs": [],
   "source": [
    "pred = model.predict(img)\n",
    "print(pred[0].shape)\n",
    "vol = pred[0] * 255"
   ]
  },
  {
   "cell_type": "markdown",
   "metadata": {},
   "source": [
    "## pyplot trisurf"
   ]
  },
  {
   "cell_type": "code",
   "execution_count": null,
   "metadata": {},
   "outputs": [],
   "source": [
    "plt.clf()\n",
    "fig = plt.figure(figsize=(10, 10))\n",
    "ax = fig.add_subplot(111, projection='3d')\n",
    "verts, faces = mcubes.marching_cubes(vol, 20) # verts: x, y, z\n",
    "\n",
    "ax.plot_trisurf(192-verts[:, 0], 192-verts[:, 1], faces, verts[:, 2], cmap='Spectral', lw=2)\n",
    "ax.set_xlabel('X')\n",
    "ax.set_ylabel('Y')\n",
    "ax.set_zlabel('Z')\n",
    "plt.show()"
   ]
  },
  {
   "cell_type": "markdown",
   "metadata": {},
   "source": [
    "## pyplot polygons"
   ]
  },
  {
   "cell_type": "code",
   "execution_count": null,
   "metadata": {},
   "outputs": [],
   "source": [
    "verts, faces, normals, values = measure.marching_cubes_lewiner(vol, level=10, step_size=1)\n",
    "print('vertices:', len(verts), '\\nfaces:', len(faces))\n",
    "\n",
    "# verts: (z, y, x) -> convert to (x, y, z)\n",
    "x = np.array(verts[:, 2])\n",
    "verts[:, 2] = np.array(verts[:, 0])\n",
    "verts[:, 0] = np.array(x)\n",
    "\n",
    "colors = interpColors(verts, im)"
   ]
  },
  {
   "cell_type": "code",
   "execution_count": null,
   "metadata": {},
   "outputs": [],
   "source": [
    "plt.clf()\n",
    "fig = plt.figure(figsize=(10, 10))\n",
    "ax = fig.add_subplot(111, projection='3d')\n",
    "\n",
    "ax.scatter(verts[:, 0], verts[:, 1], color=colors, s=5)\n",
    "\n",
    "for i, face in enumerate(faces):\n",
    "    print('\\r%d' % i, end='')\n",
    "    triangle = verts[face]\n",
    "    mesh = Poly3DCollection([triangle], facecolor=colors[face[0]]) # select one vertice as face color (flat)\n",
    "    ax.add_collection3d(mesh)\n",
    "\n",
    "ax.set_xlim(192, 0)\n",
    "ax.set_ylim(192, 0)\n",
    "ax.set_zlim(0, 200)\n",
    "ax.set_xlabel('X')\n",
    "ax.set_ylabel('Y')\n",
    "ax.set_zlabel('Z')\n",
    "plt.show()"
   ]
  },
  {
   "cell_type": "markdown",
   "metadata": {},
   "source": [
    "## visvis\n",
    "In mac OS, visvis demo has some displaying bugs. Check this issue: https://github.com/almarklein/visvis/issues/97"
   ]
  },
  {
   "cell_type": "code",
   "execution_count": null,
   "metadata": {},
   "outputs": [],
   "source": [
    "vv.settings.figureSize = (720, 720)"
   ]
  },
  {
   "cell_type": "markdown",
   "metadata": {},
   "source": [
    "**vv.mesh**"
   ]
  },
  {
   "cell_type": "code",
   "execution_count": null,
   "metadata": {},
   "outputs": [],
   "source": [
    "def switch_axis(verts, a1, a2):\n",
    "    a = np.array(verts[:, a1])\n",
    "    verts[:, a1] = np.array(verts[:, a2])\n",
    "    verts[:, a2] = np.array(a)\n",
    "    return verts"
   ]
  },
  {
   "cell_type": "code",
   "execution_count": null,
   "metadata": {},
   "outputs": [],
   "source": [
    "verts, faces, normals, values = measure.marching_cubes_lewiner(vol, level=1, step_size=1)\n",
    "print('vertice:', len(verts), '\\nfaces:', len(faces))\n",
    "\n",
    "# verts: (z, y, x) -> convert to (x, y, z)\n",
    "verts = switch_axis(verts, 0, 2)\n",
    "\n",
    "# interpolate colors\n",
    "colors = interpColors(verts, im)\n",
    "\n",
    "# in visvis, y is depth, need to switch y, z, axis\n",
    "verts = switch_axis(verts, 1, 2)\n",
    "verts[:, 1] = 200 - verts[:, 1]\n",
    "verts[:, 2] = 192 - verts[:, 2]"
   ]
  },
  {
   "cell_type": "code",
   "execution_count": null,
   "metadata": {
    "scrolled": false
   },
   "outputs": [],
   "source": [
    "vv.clf()\n",
    "f = vv.gcf()\n",
    "ax = vv.gca()\n",
    "\n",
    "white_bg = np.zeros_like(im)\n",
    "#t = vv.imshow(white_bg, interpolate=True)\n",
    "\n",
    "m = vv.mesh(verts, faces, normals, colors)\n",
    "m.faceShading = 'plain'\n",
    "m.edgeShading = 'plain'\n",
    "\n",
    "light0 = ax.light0\n",
    "light0.ambient = 0.9 # 0.2 is default for light 0\n",
    "light0.diffuse = 1.0 # 1.0 is default\n",
    "\n",
    "camera = ax.camera\n",
    "camera.fov = 0 # orthographic\n",
    "camera.zoom = 0.0045\n",
    "\n",
    "perspectives = [\n",
    "    [  0,  0,  0], # center \n",
    "    [ 15,  0,  0], # down\n",
    "    [-15,  0,  0], # up\n",
    "    [  0,  0, 15], # left\n",
    "    [  0,  0,-15], # right\n",
    "    [  0, 15,  0], # counter clock wise\n",
    "    [  0,-15,  0]  # clock wise\n",
    "]\n",
    "\n",
    "if 1:\n",
    "    ax.axis.visible = False\n",
    "    if not osp.exists('test'): os.mkdir('test')\n",
    "    for i, (x, y, z) in enumerate(perspectives):\n",
    "        camera.elevation = x\n",
    "        camera.roll = y\n",
    "        camera.azimuth = z\n",
    "        ax.Draw()\n",
    "        f.DrawNow()\n",
    "        cv2.imwrite('test/%d.jpg' % i, cv2.cvtColor(vv.getframe(f) * 255, cv2.COLOR_RGB2BGR))\n",
    "\n",
    "camera.elevation = 0 # x\n",
    "camera.roll = 0\n",
    "camera.azimuth = 0 # z\n",
    "\n",
    "ax.axis.xLabel = 'X width'\n",
    "ax.axis.yLabel = 'Y depth'\n",
    "ax.axis.zLabel = 'Z height'\n",
    "\n",
    "app = vv.use()\n",
    "app.Run()"
   ]
  },
  {
   "cell_type": "markdown",
   "metadata": {},
   "source": [
    "**record the result**"
   ]
  },
  {
   "cell_type": "code",
   "execution_count": null,
   "metadata": {},
   "outputs": [],
   "source": [
    "rec = vv.record(ax)\n",
    "\n",
    "Nangles = 4\n",
    "for i in range(Nangles):\n",
    "    camera.azimuth = 360 * float(i) / Nangles\n",
    "    if camera.azimuth>180:\n",
    "        camera.azimuth -= 360\n",
    "    ax.Draw() # Tell the axes to redraw\n",
    "    f.DrawNow() # Draw the figure NOW, instead of waiting for GUI event loop\n",
    "\n",
    "rec.Stop()\n",
    "rec.Export('demo.gif')"
   ]
  },
  {
   "cell_type": "markdown",
   "metadata": {},
   "source": [
    "**vv.volshow()**  *(old method)*"
   ]
  },
  {
   "cell_type": "code",
   "execution_count": null,
   "metadata": {},
   "outputs": [],
   "source": [
    "volRGB = np.stack(((vol > 1) * im[:,:,0],\n",
    "                   (vol > 1) * im[:,:,1],\n",
    "                   (vol > 1) * im[:,:,2]), axis=3)\n",
    "\n",
    "vv.clf()\n",
    "\n",
    "t = vv.imshow(im, interpolate=True)\n",
    "v = vv.volshow3(volRGB, renderStyle='iso')\n",
    "\n",
    "l = vv.gca()\n",
    "l.light0.ambient = 0.9 # 0.2 is default for light 0\n",
    "l.light0.diffuse = 1.0 # 1.0 is default\n",
    "\n",
    "a = vv.gca()\n",
    "a.camera.fov = 0 # orthographic\n",
    "\n",
    "vv.use().Run()"
   ]
  },
  {
   "cell_type": "markdown",
   "metadata": {},
   "source": [
    "## show z depth layers"
   ]
  },
  {
   "cell_type": "code",
   "execution_count": null,
   "metadata": {},
   "outputs": [],
   "source": [
    "plt.clf()\n",
    "\n",
    "for i, p in enumerate(volRGB[80:180:5]):\n",
    "    plt.subplot(5, 4, i + 1)\n",
    "    plt.imshow(p)\n",
    "    \n",
    "plt.show()"
   ]
  }
 ],
 "metadata": {
  "kernelspec": {
   "display_name": "Python 3",
   "language": "python",
   "name": "python3"
  },
  "language_info": {
   "codemirror_mode": {
    "name": "ipython",
    "version": 3
   },
   "file_extension": ".py",
   "mimetype": "text/x-python",
   "name": "python",
   "nbconvert_exporter": "python",
   "pygments_lexer": "ipython3",
   "version": "3.6.2"
  }
 },
 "nbformat": 4,
 "nbformat_minor": 2
}
